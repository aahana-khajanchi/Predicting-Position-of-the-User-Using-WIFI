{
 "cells": [
  {
   "cell_type": "markdown",
   "metadata": {},
   "source": [
    "## Import required libraries"
   ]
  },
  {
   "cell_type": "code",
   "execution_count": 1,
   "metadata": {},
   "outputs": [],
   "source": [
    "# Data Collection and Transformations\n",
    "import numpy as np\n",
    "import pandas as pd\n",
    "import datetime as dt\n",
    "import time\n",
    "import pickle\n",
    "from sklearn.preprocessing import Imputer, StandardScaler\n",
    "\n",
    "# Statistical Testing\n",
    "# import statsmodels.api as sm\n",
    "# from statsmodels.formula.api import ols\n",
    "import scipy\n",
    "\n",
    "# Machine Learning\n",
    "from sklearn.model_selection import train_test_split, cross_val_score\n",
    "from sklearn.preprocessing import PolynomialFeatures\n",
    "from sklearn.decomposition import PCA\n",
    "from sklearn.model_selection import learning_curve, validation_curve\n",
    "\n",
    "from sklearn.linear_model import LinearRegression, Lasso, Ridge\n",
    "from sklearn.kernel_ridge import KernelRidge\n",
    "from sklearn.neighbors import KNeighborsRegressor\n",
    "from sklearn.tree import ExtraTreeRegressor\n",
    "from sklearn.ensemble import RandomForestRegressor, ExtraTreesRegressor\n",
    "from sklearn.multioutput import MultiOutputRegressor\n",
    "from sklearn.svm import SVR\n",
    "from sklearn.model_selection import GridSearchCV\n",
    "from sklearn.neural_network import MLPRegressor\n",
    "from sklearn.pipeline import Pipeline\n",
    "# Class imbalance \n",
    "from imblearn.over_sampling import SMOTE\n",
    "from imblearn.pipeline import make_pipeline\n",
    "\n",
    "# Plotting \n",
    "import matplotlib\n",
    "import matplotlib.pyplot as plt\n",
    "from matplotlib.colors import ListedColormap\n",
    "plt.rcParams['figure.figsize'] = [10,8]\n",
    "import seaborn as sns\n",
    "%matplotlib inline\n",
    "\n",
    "import warnings"
   ]
  },
  {
   "cell_type": "markdown",
   "metadata": {},
   "source": [
    "### Read the training and testing data"
   ]
  },
  {
   "cell_type": "code",
   "execution_count": 2,
   "metadata": {
    "scrolled": true
   },
   "outputs": [
    {
     "data": {
      "text/html": [
       "<div>\n",
       "<style scoped>\n",
       "    .dataframe tbody tr th:only-of-type {\n",
       "        vertical-align: middle;\n",
       "    }\n",
       "\n",
       "    .dataframe tbody tr th {\n",
       "        vertical-align: top;\n",
       "    }\n",
       "\n",
       "    .dataframe thead th {\n",
       "        text-align: right;\n",
       "    }\n",
       "</style>\n",
       "<table border=\"1\" class=\"dataframe\">\n",
       "  <thead>\n",
       "    <tr style=\"text-align: right;\">\n",
       "      <th></th>\n",
       "      <th>WAP001</th>\n",
       "      <th>WAP002</th>\n",
       "      <th>WAP003</th>\n",
       "      <th>WAP004</th>\n",
       "      <th>WAP005</th>\n",
       "      <th>WAP006</th>\n",
       "      <th>WAP007</th>\n",
       "      <th>WAP008</th>\n",
       "      <th>WAP009</th>\n",
       "      <th>WAP010</th>\n",
       "      <th>...</th>\n",
       "      <th>WAP520</th>\n",
       "      <th>LONGITUDE</th>\n",
       "      <th>LATITUDE</th>\n",
       "      <th>FLOOR</th>\n",
       "      <th>BUILDINGID</th>\n",
       "      <th>SPACEID</th>\n",
       "      <th>RELATIVEPOSITION</th>\n",
       "      <th>USERID</th>\n",
       "      <th>PHONEID</th>\n",
       "      <th>TIMESTAMP</th>\n",
       "    </tr>\n",
       "  </thead>\n",
       "  <tbody>\n",
       "    <tr>\n",
       "      <th>0</th>\n",
       "      <td>100</td>\n",
       "      <td>100</td>\n",
       "      <td>100</td>\n",
       "      <td>100</td>\n",
       "      <td>100</td>\n",
       "      <td>100</td>\n",
       "      <td>100</td>\n",
       "      <td>100</td>\n",
       "      <td>100</td>\n",
       "      <td>100</td>\n",
       "      <td>...</td>\n",
       "      <td>100</td>\n",
       "      <td>-7541.2643</td>\n",
       "      <td>4.864921e+06</td>\n",
       "      <td>2</td>\n",
       "      <td>1</td>\n",
       "      <td>106</td>\n",
       "      <td>2</td>\n",
       "      <td>2</td>\n",
       "      <td>23</td>\n",
       "      <td>1371713733</td>\n",
       "    </tr>\n",
       "    <tr>\n",
       "      <th>1</th>\n",
       "      <td>100</td>\n",
       "      <td>100</td>\n",
       "      <td>100</td>\n",
       "      <td>100</td>\n",
       "      <td>100</td>\n",
       "      <td>100</td>\n",
       "      <td>100</td>\n",
       "      <td>100</td>\n",
       "      <td>100</td>\n",
       "      <td>100</td>\n",
       "      <td>...</td>\n",
       "      <td>100</td>\n",
       "      <td>-7536.6212</td>\n",
       "      <td>4.864934e+06</td>\n",
       "      <td>2</td>\n",
       "      <td>1</td>\n",
       "      <td>106</td>\n",
       "      <td>2</td>\n",
       "      <td>2</td>\n",
       "      <td>23</td>\n",
       "      <td>1371713691</td>\n",
       "    </tr>\n",
       "    <tr>\n",
       "      <th>2</th>\n",
       "      <td>100</td>\n",
       "      <td>100</td>\n",
       "      <td>100</td>\n",
       "      <td>100</td>\n",
       "      <td>100</td>\n",
       "      <td>100</td>\n",
       "      <td>100</td>\n",
       "      <td>-97</td>\n",
       "      <td>100</td>\n",
       "      <td>100</td>\n",
       "      <td>...</td>\n",
       "      <td>100</td>\n",
       "      <td>-7519.1524</td>\n",
       "      <td>4.864950e+06</td>\n",
       "      <td>2</td>\n",
       "      <td>1</td>\n",
       "      <td>103</td>\n",
       "      <td>2</td>\n",
       "      <td>2</td>\n",
       "      <td>23</td>\n",
       "      <td>1371714095</td>\n",
       "    </tr>\n",
       "    <tr>\n",
       "      <th>3</th>\n",
       "      <td>100</td>\n",
       "      <td>100</td>\n",
       "      <td>100</td>\n",
       "      <td>100</td>\n",
       "      <td>100</td>\n",
       "      <td>100</td>\n",
       "      <td>100</td>\n",
       "      <td>100</td>\n",
       "      <td>100</td>\n",
       "      <td>100</td>\n",
       "      <td>...</td>\n",
       "      <td>100</td>\n",
       "      <td>-7524.5704</td>\n",
       "      <td>4.864934e+06</td>\n",
       "      <td>2</td>\n",
       "      <td>1</td>\n",
       "      <td>102</td>\n",
       "      <td>2</td>\n",
       "      <td>2</td>\n",
       "      <td>23</td>\n",
       "      <td>1371713807</td>\n",
       "    </tr>\n",
       "    <tr>\n",
       "      <th>4</th>\n",
       "      <td>100</td>\n",
       "      <td>100</td>\n",
       "      <td>100</td>\n",
       "      <td>100</td>\n",
       "      <td>100</td>\n",
       "      <td>100</td>\n",
       "      <td>100</td>\n",
       "      <td>100</td>\n",
       "      <td>100</td>\n",
       "      <td>100</td>\n",
       "      <td>...</td>\n",
       "      <td>100</td>\n",
       "      <td>-7632.1436</td>\n",
       "      <td>4.864982e+06</td>\n",
       "      <td>0</td>\n",
       "      <td>0</td>\n",
       "      <td>122</td>\n",
       "      <td>2</td>\n",
       "      <td>11</td>\n",
       "      <td>13</td>\n",
       "      <td>1369909710</td>\n",
       "    </tr>\n",
       "  </tbody>\n",
       "</table>\n",
       "<p>5 rows × 529 columns</p>\n",
       "</div>"
      ],
      "text/plain": [
       "   WAP001  WAP002  WAP003  WAP004  WAP005  WAP006  WAP007  WAP008  WAP009  \\\n",
       "0     100     100     100     100     100     100     100     100     100   \n",
       "1     100     100     100     100     100     100     100     100     100   \n",
       "2     100     100     100     100     100     100     100     -97     100   \n",
       "3     100     100     100     100     100     100     100     100     100   \n",
       "4     100     100     100     100     100     100     100     100     100   \n",
       "\n",
       "   WAP010     ...      WAP520  LONGITUDE      LATITUDE  FLOOR  BUILDINGID  \\\n",
       "0     100     ...         100 -7541.2643  4.864921e+06      2           1   \n",
       "1     100     ...         100 -7536.6212  4.864934e+06      2           1   \n",
       "2     100     ...         100 -7519.1524  4.864950e+06      2           1   \n",
       "3     100     ...         100 -7524.5704  4.864934e+06      2           1   \n",
       "4     100     ...         100 -7632.1436  4.864982e+06      0           0   \n",
       "\n",
       "   SPACEID  RELATIVEPOSITION  USERID  PHONEID   TIMESTAMP  \n",
       "0      106                 2       2       23  1371713733  \n",
       "1      106                 2       2       23  1371713691  \n",
       "2      103                 2       2       23  1371714095  \n",
       "3      102                 2       2       23  1371713807  \n",
       "4      122                 2      11       13  1369909710  \n",
       "\n",
       "[5 rows x 529 columns]"
      ]
     },
     "execution_count": 2,
     "metadata": {},
     "output_type": "execute_result"
    }
   ],
   "source": [
    "trainingData= pd.read_csv(\"data/trainingData.csv\")\n",
    "trainingData.head()"
   ]
  },
  {
   "cell_type": "code",
   "execution_count": 3,
   "metadata": {},
   "outputs": [
    {
     "data": {
      "text/html": [
       "<div>\n",
       "<style scoped>\n",
       "    .dataframe tbody tr th:only-of-type {\n",
       "        vertical-align: middle;\n",
       "    }\n",
       "\n",
       "    .dataframe tbody tr th {\n",
       "        vertical-align: top;\n",
       "    }\n",
       "\n",
       "    .dataframe thead th {\n",
       "        text-align: right;\n",
       "    }\n",
       "</style>\n",
       "<table border=\"1\" class=\"dataframe\">\n",
       "  <thead>\n",
       "    <tr style=\"text-align: right;\">\n",
       "      <th></th>\n",
       "      <th>WAP001</th>\n",
       "      <th>WAP002</th>\n",
       "      <th>WAP003</th>\n",
       "      <th>WAP004</th>\n",
       "      <th>WAP005</th>\n",
       "      <th>WAP006</th>\n",
       "      <th>WAP007</th>\n",
       "      <th>WAP008</th>\n",
       "      <th>WAP009</th>\n",
       "      <th>WAP010</th>\n",
       "      <th>...</th>\n",
       "      <th>WAP520</th>\n",
       "      <th>LONGITUDE</th>\n",
       "      <th>LATITUDE</th>\n",
       "      <th>FLOOR</th>\n",
       "      <th>BUILDINGID</th>\n",
       "      <th>SPACEID</th>\n",
       "      <th>RELATIVEPOSITION</th>\n",
       "      <th>USERID</th>\n",
       "      <th>PHONEID</th>\n",
       "      <th>TIMESTAMP</th>\n",
       "    </tr>\n",
       "  </thead>\n",
       "  <tbody>\n",
       "    <tr>\n",
       "      <th>0</th>\n",
       "      <td>100</td>\n",
       "      <td>100</td>\n",
       "      <td>100</td>\n",
       "      <td>100</td>\n",
       "      <td>100</td>\n",
       "      <td>100</td>\n",
       "      <td>100</td>\n",
       "      <td>100</td>\n",
       "      <td>100</td>\n",
       "      <td>100</td>\n",
       "      <td>...</td>\n",
       "      <td>100</td>\n",
       "      <td>-7515.916799</td>\n",
       "      <td>4.864890e+06</td>\n",
       "      <td>1</td>\n",
       "      <td>1</td>\n",
       "      <td>0</td>\n",
       "      <td>0</td>\n",
       "      <td>0</td>\n",
       "      <td>0</td>\n",
       "      <td>1380872703</td>\n",
       "    </tr>\n",
       "    <tr>\n",
       "      <th>1</th>\n",
       "      <td>100</td>\n",
       "      <td>100</td>\n",
       "      <td>100</td>\n",
       "      <td>100</td>\n",
       "      <td>100</td>\n",
       "      <td>100</td>\n",
       "      <td>100</td>\n",
       "      <td>100</td>\n",
       "      <td>100</td>\n",
       "      <td>100</td>\n",
       "      <td>...</td>\n",
       "      <td>100</td>\n",
       "      <td>-7383.867221</td>\n",
       "      <td>4.864840e+06</td>\n",
       "      <td>4</td>\n",
       "      <td>2</td>\n",
       "      <td>0</td>\n",
       "      <td>0</td>\n",
       "      <td>0</td>\n",
       "      <td>13</td>\n",
       "      <td>1381155054</td>\n",
       "    </tr>\n",
       "    <tr>\n",
       "      <th>2</th>\n",
       "      <td>100</td>\n",
       "      <td>100</td>\n",
       "      <td>100</td>\n",
       "      <td>100</td>\n",
       "      <td>100</td>\n",
       "      <td>100</td>\n",
       "      <td>100</td>\n",
       "      <td>100</td>\n",
       "      <td>100</td>\n",
       "      <td>100</td>\n",
       "      <td>...</td>\n",
       "      <td>100</td>\n",
       "      <td>-7374.302080</td>\n",
       "      <td>4.864847e+06</td>\n",
       "      <td>4</td>\n",
       "      <td>2</td>\n",
       "      <td>0</td>\n",
       "      <td>0</td>\n",
       "      <td>0</td>\n",
       "      <td>13</td>\n",
       "      <td>1381155095</td>\n",
       "    </tr>\n",
       "    <tr>\n",
       "      <th>3</th>\n",
       "      <td>100</td>\n",
       "      <td>100</td>\n",
       "      <td>100</td>\n",
       "      <td>100</td>\n",
       "      <td>100</td>\n",
       "      <td>100</td>\n",
       "      <td>100</td>\n",
       "      <td>100</td>\n",
       "      <td>100</td>\n",
       "      <td>100</td>\n",
       "      <td>...</td>\n",
       "      <td>100</td>\n",
       "      <td>-7365.824883</td>\n",
       "      <td>4.864843e+06</td>\n",
       "      <td>4</td>\n",
       "      <td>2</td>\n",
       "      <td>0</td>\n",
       "      <td>0</td>\n",
       "      <td>0</td>\n",
       "      <td>13</td>\n",
       "      <td>1381155138</td>\n",
       "    </tr>\n",
       "    <tr>\n",
       "      <th>4</th>\n",
       "      <td>100</td>\n",
       "      <td>100</td>\n",
       "      <td>100</td>\n",
       "      <td>100</td>\n",
       "      <td>100</td>\n",
       "      <td>100</td>\n",
       "      <td>100</td>\n",
       "      <td>100</td>\n",
       "      <td>100</td>\n",
       "      <td>100</td>\n",
       "      <td>...</td>\n",
       "      <td>100</td>\n",
       "      <td>-7641.499303</td>\n",
       "      <td>4.864922e+06</td>\n",
       "      <td>2</td>\n",
       "      <td>0</td>\n",
       "      <td>0</td>\n",
       "      <td>0</td>\n",
       "      <td>0</td>\n",
       "      <td>2</td>\n",
       "      <td>1380877774</td>\n",
       "    </tr>\n",
       "  </tbody>\n",
       "</table>\n",
       "<p>5 rows × 529 columns</p>\n",
       "</div>"
      ],
      "text/plain": [
       "   WAP001  WAP002  WAP003  WAP004  WAP005  WAP006  WAP007  WAP008  WAP009  \\\n",
       "0     100     100     100     100     100     100     100     100     100   \n",
       "1     100     100     100     100     100     100     100     100     100   \n",
       "2     100     100     100     100     100     100     100     100     100   \n",
       "3     100     100     100     100     100     100     100     100     100   \n",
       "4     100     100     100     100     100     100     100     100     100   \n",
       "\n",
       "   WAP010     ...      WAP520    LONGITUDE      LATITUDE  FLOOR  BUILDINGID  \\\n",
       "0     100     ...         100 -7515.916799  4.864890e+06      1           1   \n",
       "1     100     ...         100 -7383.867221  4.864840e+06      4           2   \n",
       "2     100     ...         100 -7374.302080  4.864847e+06      4           2   \n",
       "3     100     ...         100 -7365.824883  4.864843e+06      4           2   \n",
       "4     100     ...         100 -7641.499303  4.864922e+06      2           0   \n",
       "\n",
       "   SPACEID  RELATIVEPOSITION  USERID  PHONEID   TIMESTAMP  \n",
       "0        0                 0       0        0  1380872703  \n",
       "1        0                 0       0       13  1381155054  \n",
       "2        0                 0       0       13  1381155095  \n",
       "3        0                 0       0       13  1381155138  \n",
       "4        0                 0       0        2  1380877774  \n",
       "\n",
       "[5 rows x 529 columns]"
      ]
     },
     "execution_count": 3,
     "metadata": {},
     "output_type": "execute_result"
    }
   ],
   "source": [
    "testingData = pd.read_csv(\"data/validationData.csv\")\n",
    "testingData.head()"
   ]
  },
  {
   "cell_type": "code",
   "execution_count": 4,
   "metadata": {},
   "outputs": [
    {
     "data": {
      "text/plain": [
       "<matplotlib.axes._subplots.AxesSubplot at 0x1de977326a0>"
      ]
     },
     "execution_count": 4,
     "metadata": {},
     "output_type": "execute_result"
    },
    {
     "data": {
      "image/png": "[encoded data removed]",
      "text/plain": [
       "<Figure size 432x288 with 2 Axes>"
      ]
     },
     "metadata": {},
     "output_type": "display_data"
    }
   ],
   "source": [
    "trainingData_corr = trainingData.corr()\n",
    "sns.heatmap(trainingData_corr)"
   ]
  },
  {
   "cell_type": "markdown",
   "metadata": {},
   "source": [
    "## Drop unnecessary columns. \n",
    "So here we need to predict the longitude and latitude of GPS, which can be done using the WAP columns. \n"
   ]
  },
  {
   "cell_type": "code",
   "execution_count": 5,
   "metadata": {},
   "outputs": [],
   "source": [
    "X_train_LL = trainingData.drop(['FLOOR', 'BUILDINGID','SPACEID','LONGITUDE','LATITUDE','RELATIVEPOSITION','USERID','PHONEID','TIMESTAMP'], axis=1)\n",
    "y_train_LL = trainingData[['LONGITUDE','LATITUDE']]"
   ]
  },
  {
   "cell_type": "markdown",
   "metadata": {},
   "source": [
    "Convert it into an array, removing the headers."
   ]
  },
  {
   "cell_type": "code",
   "execution_count": 6,
   "metadata": {},
   "outputs": [],
   "source": [
    "X_test_LL = testingData.drop(['FLOOR', 'BUILDINGID','SPACEID','LONGITUDE','LATITUDE','RELATIVEPOSITION','USERID','PHONEID','TIMESTAMP'], axis=1)\n",
    "y_test_LL = testingData[['LONGITUDE','LATITUDE']]"
   ]
  },
  {
   "cell_type": "code",
   "execution_count": 7,
   "metadata": {},
   "outputs": [
    {
     "name": "stderr",
     "output_type": "stream",
     "text": [
      "C:\\Users\\sreer\\Anaconda3\\envs\\learn_python\\lib\\site-packages\\matplotlib\\axes\\_axes.py:6462: UserWarning: The 'normed' kwarg is deprecated, and has been replaced by the 'density' kwarg.\n",
      "  warnings.warn(\"The 'normed' kwarg is deprecated, and has been \"\n"
     ]
    },
    {
     "data": {
      "text/plain": [
       "Text(0.5,0,'FLOOR')"
      ]
     },
     "execution_count": 7,
     "metadata": {},
     "output_type": "execute_result"
    },
    {
     "data": {
      "image/png": "[encoded data removed]",
      "text/plain": [
       "<Figure size 432x288 with 1 Axes>"
      ]
     },
     "metadata": {},
     "output_type": "display_data"
    }
   ],
   "source": [
    "sns.distplot(trainingData[['FLOOR']], kde=False)\n",
    "plt.ylabel('counts')\n",
    "plt.xlabel('FLOOR')"
   ]
  },
  {
   "cell_type": "code",
   "execution_count": 8,
   "metadata": {},
   "outputs": [
    {
     "name": "stderr",
     "output_type": "stream",
     "text": [
      "C:\\Users\\sreer\\Anaconda3\\envs\\learn_python\\lib\\site-packages\\matplotlib\\axes\\_axes.py:6462: UserWarning: The 'normed' kwarg is deprecated, and has been replaced by the 'density' kwarg.\n",
      "  warnings.warn(\"The 'normed' kwarg is deprecated, and has been \"\n"
     ]
    },
    {
     "data": {
      "text/plain": [
       "Text(0.5,0,'BUILDINGID')"
      ]
     },
     "execution_count": 8,
     "metadata": {},
     "output_type": "execute_result"
    },
    {
     "data": {
      "image/png": "[encoded data removed]",
      "text/plain": [
       "<Figure size 432x288 with 1 Axes>"
      ]
     },
     "metadata": {},
     "output_type": "display_data"
    }
   ],
   "source": [
    "sns.distplot(trainingData[['BUILDINGID']], kde=False)\n",
    "plt.ylabel('counts')\n",
    "plt.xlabel('BUILDINGID')"
   ]
  },
  {
   "cell_type": "code",
   "execution_count": 9,
   "metadata": {},
   "outputs": [
    {
     "name": "stderr",
     "output_type": "stream",
     "text": [
      "C:\\Users\\sreer\\Anaconda3\\envs\\learn_python\\lib\\site-packages\\matplotlib\\axes\\_axes.py:6462: UserWarning: The 'normed' kwarg is deprecated, and has been replaced by the 'density' kwarg.\n",
      "  warnings.warn(\"The 'normed' kwarg is deprecated, and has been \"\n"
     ]
    },
    {
     "data": {
      "text/plain": [
       "Text(0.5,0,'SPACEID')"
      ]
     },
     "execution_count": 9,
     "metadata": {},
     "output_type": "execute_result"
    },
    {
     "data": {
      "image/png": "[encoded data removed]",
      "text/plain": [
       "<Figure size 432x288 with 1 Axes>"
      ]
     },
     "metadata": {},
     "output_type": "display_data"
    }
   ],
   "source": [
    "sns.distplot(trainingData[['SPACEID']], kde=False)\n",
    "plt.ylabel('counts')\n",
    "plt.xlabel('SPACEID')"
   ]
  },
  {
   "cell_type": "code",
   "execution_count": 10,
   "metadata": {},
   "outputs": [
    {
     "data": {
      "image/png": "[encoded data removed]",
      "text/plain": [
       "<Figure size 432x288 with 1 Axes>"
      ]
     },
     "metadata": {},
     "output_type": "display_data"
    }
   ],
   "source": [
    "from matplotlib.colors import ListedColormap\n",
    "\n",
    "markers = ('s', 'x', 'o', '^', 'v')\n",
    "colors = ('red', 'blue', 'lightgreen', 'gray', 'cyan')\n",
    "cmap = ListedColormap(colors[:len(np.unique(trainingData['BUILDINGID']))])\n",
    "\n",
    "for idx, cl in enumerate(np.unique(trainingData['BUILDINGID'])):\n",
    "        plt.scatter(x= trainingData.loc[trainingData.BUILDINGID== cl]['LATITUDE'], \n",
    "                    y=trainingData.loc[trainingData.BUILDINGID== cl]['LONGITUDE'],\n",
    "                    alpha=0.6, \n",
    "                    c=cmap(idx),\n",
    "                    edgecolor='black',\n",
    "                    marker=markers[idx], \n",
    "                    label=cl)\n",
    "\n",
    "plt.xlabel('Latitude')\n",
    "plt.ylabel('Longitude')\n",
    "plt.legend(loc='upper right')\n",
    "plt.tight_layout()"
   ]
  },
  {
   "cell_type": "markdown",
   "metadata": {},
   "source": [
    "Observations :\n",
    "In our training samples, building 2 has the clear majority with it's count being slightly lower than the sum of building 0 and building 1.\n",
    "Building 0 and building 1 have roughly the same representation in the training data."
   ]
  },
  {
   "cell_type": "markdown",
   "metadata": {},
   "source": [
    "The above plot illustrates the locations of the buildings in the campus."
   ]
  },
  {
   "cell_type": "code",
   "execution_count": 11,
   "metadata": {},
   "outputs": [
    {
     "data": {
      "text/plain": [
       "2    9492\n",
       "0    5249\n",
       "1    5196\n",
       "Name: BUILDINGID, dtype: int64"
      ]
     },
     "execution_count": 11,
     "metadata": {},
     "output_type": "execute_result"
    }
   ],
   "source": [
    "trainingData['BUILDINGID'].value_counts()"
   ]
  },
  {
   "cell_type": "code",
   "execution_count": 12,
   "metadata": {},
   "outputs": [
    {
     "data": {
      "text/plain": [
       "<matplotlib.axes._subplots.AxesSubplot at 0x1de97d4f518>"
      ]
     },
     "execution_count": 12,
     "metadata": {},
     "output_type": "execute_result"
    },
    {
     "data": {
      "image/png": "[encoded data removed]",
      "text/plain": [
       "<Figure size 432x288 with 1 Axes>"
      ]
     },
     "metadata": {},
     "output_type": "display_data"
    }
   ],
   "source": [
    "sns.countplot(x= \"FLOOR\", hue=\"BUILDINGID\", data = trainingData, orient = \"v\")"
   ]
  },
  {
   "cell_type": "markdown",
   "metadata": {},
   "source": [
    "\n",
    "Observations:\n",
    "Buildings 0 and 1 have 4 floors whereas Building 2 has 5 floors.\n",
    "Expectedly, the samples from Building 2 are consistently the highest across all the floors."
   ]
  },
  {
   "cell_type": "markdown",
   "metadata": {},
   "source": [
    "# Regressor Model"
   ]
  },
  {
   "cell_type": "code",
   "execution_count": 13,
   "metadata": {},
   "outputs": [
    {
     "name": "stderr",
     "output_type": "stream",
     "text": [
      "C:\\Users\\sreer\\Anaconda3\\envs\\learn_python\\lib\\site-packages\\sklearn\\cross_validation.py:41: DeprecationWarning: This module was deprecated in version 0.18 in favor of the model_selection module into which all the refactored classes and functions are moved. Also note that the interface of the new CV iterators are different from that of this module. This module will be removed in 0.20.\n",
      "  \"This module will be removed in 0.20.\", DeprecationWarning)\n"
     ]
    }
   ],
   "source": [
    "#Importing Libraries\n",
    "from sklearn.metrics import r2_score, mean_squared_error,mean_absolute_error\n",
    "from sklearn.cross_validation import cross_val_score\n",
    "\n",
    "\n",
    "rmse_dict = {}    \n",
    "def rmse(correct,estimated):\n",
    "    rmse_val = np.sqrt(mean_squared_error(correct,estimated)) \n",
    "    return rmse_val\n",
    "\n",
    "# Generating the Table Frame for metrics\n",
    "evluation_table = pd.DataFrame({  'Model_desc':[],\n",
    "                        'Model_param':[],\n",
    "                        'r2_train': [],\n",
    "                        'r2_test': [],\n",
    "                        'rms_train':[], \n",
    "                        'rms_test': [],\n",
    "                        'mae_train': [],\n",
    "                        'mae_test': [],\n",
    "                        'mape_train':[],\n",
    "                        'mape_test':[],\n",
    "                        'cross_val_score' : []})\n",
    "\n",
    "\n",
    "# Evaluating the model\n",
    "def evaluate_model(model, model_desc,model_param, X_train, y_train, X_test, y_test):\n",
    "    global evluation_table\n",
    "    \n",
    "    y_train_pred = model.predict(X_train)\n",
    "    y_test_pred = model.predict(X_test)\n",
    "        \n",
    "    \n",
    "    try:\n",
    "        r2_train = r2_score(y_train, y_train_pred)\n",
    "        r2_test = r2_score(y_test, y_test_pred)\n",
    "    except:\n",
    "        r2_train = \"not calculated\"\n",
    "        r2_test = \"not calculated\"\n",
    "    try:\n",
    "        rms_train = rmse(y_train, y_train_pred)\n",
    "        rms_test = rmse(y_test, y_test_pred)\n",
    "    except:\n",
    "        rms_train = \"not calculated\"\n",
    "        rms_test = \"not calculated\"\n",
    "    try:\n",
    "        mae_train = mean_absolute_error(y_train, y_train_pred)\n",
    "        mae_test = mean_absolute_error(y_test, y_test_pred)\n",
    "    except:\n",
    "        mae_train = \"not calculated\"\n",
    "        mae_test = \"not calculated\"\n",
    "    try:\n",
    "        mape_train = np.mean(np.abs((y_train - y_train_pred) / y_train)) * 100\n",
    "        mape_test = np.mean(np.abs((y_test - y_test_pred) / y_test)) * 100\n",
    "    except:\n",
    "        mape_train = \"not calculated\"\n",
    "        mape_test = \"not calculated\"   \n",
    "    try:\n",
    "        cv_score = cross_val_score(model, X_train, y_train, cv=10)\n",
    "        cv_score = cv_score.mean()\n",
    "    except:\n",
    "        cv_score = \"Not calulated\"\n",
    "        \n",
    "    model_param = pd.DataFrame({'Model_desc':[model_desc],\n",
    "                            'Model_param':[model_param],\n",
    "                            'r2_train': [r2_train],\n",
    "                            'r2_test': [r2_test],\n",
    "                            'rms_train':[rms_train], \n",
    "                            'rms_test': [rms_test],\n",
    "                            'mae_train': [mae_train],\n",
    "                            'mae_test': [mae_test],\n",
    "                            'mape_train':[mape_train],\n",
    "                            'mape_test':[mape_test],\n",
    "                            'cross_val_score' : [cv_score]})\n",
    "\n",
    "    evluation_table = evluation_table.append([model_param])\n",
    " \n",
    "    return evluation_table"
   ]
  },
  {
   "cell_type": "code",
   "execution_count": 14,
   "metadata": {},
   "outputs": [],
   "source": [
    "from sklearn.ensemble import RandomForestRegressor"
   ]
  },
  {
   "cell_type": "code",
   "execution_count": 15,
   "metadata": {
    "scrolled": true
   },
   "outputs": [
    {
     "data": {
      "text/plain": [
       "RandomForestRegressor(bootstrap=True, criterion='mse', max_depth=None,\n",
       "           max_features=10, max_leaf_nodes=None, min_impurity_decrease=0.0,\n",
       "           min_impurity_split=None, min_samples_leaf=1,\n",
       "           min_samples_split=2, min_weight_fraction_leaf=0.0,\n",
       "           n_estimators=10, n_jobs=-1, oob_score=False, random_state=None,\n",
       "           verbose=0, warm_start=False)"
      ]
     },
     "execution_count": 15,
     "metadata": {},
     "output_type": "execute_result"
    }
   ],
   "source": [
    "regressor = RandomForestRegressor(max_features=10 , n_jobs=-1 ) \n",
    "regressor.fit(X_train_LL, y_train_LL)"
   ]
  },
  {
   "cell_type": "code",
   "execution_count": 16,
   "metadata": {
    "scrolled": true
   },
   "outputs": [
    {
     "data": {
      "text/html": [
       "<div>\n",
       "<style scoped>\n",
       "    .dataframe tbody tr th:only-of-type {\n",
       "        vertical-align: middle;\n",
       "    }\n",
       "\n",
       "    .dataframe tbody tr th {\n",
       "        vertical-align: top;\n",
       "    }\n",
       "\n",
       "    .dataframe thead th {\n",
       "        text-align: right;\n",
       "    }\n",
       "</style>\n",
       "<table border=\"1\" class=\"dataframe\">\n",
       "  <thead>\n",
       "    <tr style=\"text-align: right;\">\n",
       "      <th></th>\n",
       "      <th>Model_desc</th>\n",
       "      <th>Model_param</th>\n",
       "      <th>cross_val_score</th>\n",
       "      <th>mae_test</th>\n",
       "      <th>mae_train</th>\n",
       "      <th>mape_test</th>\n",
       "      <th>mape_train</th>\n",
       "      <th>r2_test</th>\n",
       "      <th>r2_train</th>\n",
       "      <th>rms_test</th>\n",
       "      <th>rms_train</th>\n",
       "    </tr>\n",
       "  </thead>\n",
       "  <tbody>\n",
       "    <tr>\n",
       "      <th>0</th>\n",
       "      <td>RandomForestRegressor</td>\n",
       "      <td>(DecisionTreeRegressor(criterion='mse', max_de...</td>\n",
       "      <td>0.960057</td>\n",
       "      <td>8.50357</td>\n",
       "      <td>1.974696</td>\n",
       "      <td>LONGITUDE    0.120827\n",
       "LATITUDE     0.000163\n",
       "dt...</td>\n",
       "      <td>LONGITUDE    0.029163\n",
       "LATITUDE     0.000037\n",
       "dt...</td>\n",
       "      <td>0.980381</td>\n",
       "      <td>0.996</td>\n",
       "      <td>12.310381</td>\n",
       "      <td>5.813659</td>\n",
       "    </tr>\n",
       "  </tbody>\n",
       "</table>\n",
       "</div>"
      ],
      "text/plain": [
       "              Model_desc                                        Model_param  \\\n",
       "0  RandomForestRegressor  (DecisionTreeRegressor(criterion='mse', max_de...   \n",
       "\n",
       "   cross_val_score  mae_test  mae_train  \\\n",
       "0         0.960057   8.50357   1.974696   \n",
       "\n",
       "                                           mape_test  \\\n",
       "0  LONGITUDE    0.120827\n",
       "LATITUDE     0.000163\n",
       "dt...   \n",
       "\n",
       "                                          mape_train   r2_test  r2_train  \\\n",
       "0  LONGITUDE    0.029163\n",
       "LATITUDE     0.000037\n",
       "dt...  0.980381     0.996   \n",
       "\n",
       "    rms_test  rms_train  \n",
       "0  12.310381   5.813659  "
      ]
     },
     "execution_count": 16,
     "metadata": {},
     "output_type": "execute_result"
    }
   ],
   "source": [
    "evaluate_model(regressor, \"RandomForestRegressor\",regressor,X_train_LL,y_train_LL, X_test_LL , y_test_LL)"
   ]
  },
  {
   "cell_type": "code",
   "execution_count": 17,
   "metadata": {},
   "outputs": [],
   "source": [
    "import pickle\n",
    "# save the classifier\n",
    "with open('RandomForestRegressor.pckl', 'wb') as fid:\n",
    "    pickle.dump(regressor, fid)    "
   ]
  },
  {
   "cell_type": "code",
   "execution_count": 18,
   "metadata": {},
   "outputs": [
    {
     "data": {
      "text/plain": [
       "ExtraTreesRegressor(bootstrap=False, criterion='mse', max_depth=None,\n",
       "          max_features=10, max_leaf_nodes=None, min_impurity_decrease=0.0,\n",
       "          min_impurity_split=None, min_samples_leaf=1, min_samples_split=2,\n",
       "          min_weight_fraction_leaf=0.0, n_estimators=10, n_jobs=-1,\n",
       "          oob_score=False, random_state=None, verbose=0, warm_start=False)"
      ]
     },
     "execution_count": 18,
     "metadata": {},
     "output_type": "execute_result"
    }
   ],
   "source": [
    "regressor = ExtraTreesRegressor(max_features=10 , n_jobs=-1 ) \n",
    "regressor.fit(X_train_LL, y_train_LL)\n"
   ]
  },
  {
   "cell_type": "code",
   "execution_count": 19,
   "metadata": {},
   "outputs": [
    {
     "data": {
      "text/html": [
       "<div>\n",
       "<style scoped>\n",
       "    .dataframe tbody tr th:only-of-type {\n",
       "        vertical-align: middle;\n",
       "    }\n",
       "\n",
       "    .dataframe tbody tr th {\n",
       "        vertical-align: top;\n",
       "    }\n",
       "\n",
       "    .dataframe thead th {\n",
       "        text-align: right;\n",
       "    }\n",
       "</style>\n",
       "<table border=\"1\" class=\"dataframe\">\n",
       "  <thead>\n",
       "    <tr style=\"text-align: right;\">\n",
       "      <th></th>\n",
       "      <th>Model_desc</th>\n",
       "      <th>Model_param</th>\n",
       "      <th>cross_val_score</th>\n",
       "      <th>mae_test</th>\n",
       "      <th>mae_train</th>\n",
       "      <th>mape_test</th>\n",
       "      <th>mape_train</th>\n",
       "      <th>r2_test</th>\n",
       "      <th>r2_train</th>\n",
       "      <th>rms_test</th>\n",
       "      <th>rms_train</th>\n",
       "    </tr>\n",
       "  </thead>\n",
       "  <tbody>\n",
       "    <tr>\n",
       "      <th>0</th>\n",
       "      <td>RandomForestRegressor</td>\n",
       "      <td>(DecisionTreeRegressor(criterion='mse', max_de...</td>\n",
       "      <td>0.960057</td>\n",
       "      <td>8.503570</td>\n",
       "      <td>1.974696</td>\n",
       "      <td>LONGITUDE    0.120827\n",
       "LATITUDE     0.000163\n",
       "dt...</td>\n",
       "      <td>LONGITUDE    0.029163\n",
       "LATITUDE     0.000037\n",
       "dt...</td>\n",
       "      <td>0.980381</td>\n",
       "      <td>0.996000</td>\n",
       "      <td>12.310381</td>\n",
       "      <td>5.813659</td>\n",
       "    </tr>\n",
       "    <tr>\n",
       "      <th>0</th>\n",
       "      <td>ExtraTreesRegressor</td>\n",
       "      <td>(ExtraTreeRegressor(criterion='mse', max_depth...</td>\n",
       "      <td>0.963376</td>\n",
       "      <td>8.186552</td>\n",
       "      <td>0.575143</td>\n",
       "      <td>LONGITUDE    0.115704\n",
       "LATITUDE     0.000158\n",
       "dt...</td>\n",
       "      <td>LONGITUDE    0.009154\n",
       "LATITUDE     0.000010\n",
       "dt...</td>\n",
       "      <td>0.981184</td>\n",
       "      <td>0.997063</td>\n",
       "      <td>12.103590</td>\n",
       "      <td>5.079685</td>\n",
       "    </tr>\n",
       "  </tbody>\n",
       "</table>\n",
       "</div>"
      ],
      "text/plain": [
       "              Model_desc                                        Model_param  \\\n",
       "0  RandomForestRegressor  (DecisionTreeRegressor(criterion='mse', max_de...   \n",
       "0    ExtraTreesRegressor  (ExtraTreeRegressor(criterion='mse', max_depth...   \n",
       "\n",
       "   cross_val_score  mae_test  mae_train  \\\n",
       "0         0.960057  8.503570   1.974696   \n",
       "0         0.963376  8.186552   0.575143   \n",
       "\n",
       "                                           mape_test  \\\n",
       "0  LONGITUDE    0.120827\n",
       "LATITUDE     0.000163\n",
       "dt...   \n",
       "0  LONGITUDE    0.115704\n",
       "LATITUDE     0.000158\n",
       "dt...   \n",
       "\n",
       "                                          mape_train   r2_test  r2_train  \\\n",
       "0  LONGITUDE    0.029163\n",
       "LATITUDE     0.000037\n",
       "dt...  0.980381  0.996000   \n",
       "0  LONGITUDE    0.009154\n",
       "LATITUDE     0.000010\n",
       "dt...  0.981184  0.997063   \n",
       "\n",
       "    rms_test  rms_train  \n",
       "0  12.310381   5.813659  \n",
       "0  12.103590   5.079685  "
      ]
     },
     "execution_count": 19,
     "metadata": {},
     "output_type": "execute_result"
    }
   ],
   "source": [
    "evaluate_model(regressor, \"ExtraTreesRegressor\",regressor,X_train_LL,y_train_LL, X_test_LL , y_test_LL)"
   ]
  },
  {
   "cell_type": "code",
   "execution_count": 20,
   "metadata": {},
   "outputs": [],
   "source": [
    "with open('ExtraTreesRegressor.pckl', 'wb') as fid:\n",
    "    pickle.dump(regressor, fid)    "
   ]
  },
  {
   "cell_type": "code",
   "execution_count": 21,
   "metadata": {},
   "outputs": [],
   "source": [
    "from sklearn import neighbors"
   ]
  },
  {
   "cell_type": "code",
   "execution_count": 22,
   "metadata": {},
   "outputs": [
    {
     "data": {
      "text/plain": [
       "KNeighborsRegressor(algorithm='auto', leaf_size=30, metric='minkowski',\n",
       "          metric_params=None, n_jobs=-1, n_neighbors=5, p=2,\n",
       "          weights='uniform')"
      ]
     },
     "execution_count": 22,
     "metadata": {},
     "output_type": "execute_result"
    }
   ],
   "source": [
    "regressor = neighbors.KNeighborsRegressor( n_jobs=-1)\n",
    "regressor.fit(X_train_LL, y_train_LL)"
   ]
  },
  {
   "cell_type": "code",
   "execution_count": 23,
   "metadata": {},
   "outputs": [
    {
     "data": {
      "text/html": [
       "<div>\n",
       "<style scoped>\n",
       "    .dataframe tbody tr th:only-of-type {\n",
       "        vertical-align: middle;\n",
       "    }\n",
       "\n",
       "    .dataframe tbody tr th {\n",
       "        vertical-align: top;\n",
       "    }\n",
       "\n",
       "    .dataframe thead th {\n",
       "        text-align: right;\n",
       "    }\n",
       "</style>\n",
       "<table border=\"1\" class=\"dataframe\">\n",
       "  <thead>\n",
       "    <tr style=\"text-align: right;\">\n",
       "      <th></th>\n",
       "      <th>Model_desc</th>\n",
       "      <th>Model_param</th>\n",
       "      <th>cross_val_score</th>\n",
       "      <th>mae_test</th>\n",
       "      <th>mae_train</th>\n",
       "      <th>mape_test</th>\n",
       "      <th>mape_train</th>\n",
       "      <th>r2_test</th>\n",
       "      <th>r2_train</th>\n",
       "      <th>rms_test</th>\n",
       "      <th>rms_train</th>\n",
       "    </tr>\n",
       "  </thead>\n",
       "  <tbody>\n",
       "    <tr>\n",
       "      <th>0</th>\n",
       "      <td>RandomForestRegressor</td>\n",
       "      <td>(DecisionTreeRegressor(criterion='mse', max_de...</td>\n",
       "      <td>0.960057</td>\n",
       "      <td>8.503570</td>\n",
       "      <td>1.974696</td>\n",
       "      <td>LONGITUDE    0.120827\n",
       "LATITUDE     0.000163\n",
       "dt...</td>\n",
       "      <td>LONGITUDE    0.029163\n",
       "LATITUDE     0.000037\n",
       "dt...</td>\n",
       "      <td>0.980381</td>\n",
       "      <td>0.996000</td>\n",
       "      <td>12.310381</td>\n",
       "      <td>5.813659</td>\n",
       "    </tr>\n",
       "    <tr>\n",
       "      <th>0</th>\n",
       "      <td>ExtraTreesRegressor</td>\n",
       "      <td>(ExtraTreeRegressor(criterion='mse', max_depth...</td>\n",
       "      <td>0.963376</td>\n",
       "      <td>8.186552</td>\n",
       "      <td>0.575143</td>\n",
       "      <td>LONGITUDE    0.115704\n",
       "LATITUDE     0.000158\n",
       "dt...</td>\n",
       "      <td>LONGITUDE    0.009154\n",
       "LATITUDE     0.000010\n",
       "dt...</td>\n",
       "      <td>0.981184</td>\n",
       "      <td>0.997063</td>\n",
       "      <td>12.103590</td>\n",
       "      <td>5.079685</td>\n",
       "    </tr>\n",
       "    <tr>\n",
       "      <th>0</th>\n",
       "      <td>KNeighborsRegressor</td>\n",
       "      <td>KNeighborsRegressor(algorithm='auto', leaf_siz...</td>\n",
       "      <td>0.949547</td>\n",
       "      <td>8.822279</td>\n",
       "      <td>2.496924</td>\n",
       "      <td>LONGITUDE    0.123604\n",
       "LATITUDE     0.000172\n",
       "dt...</td>\n",
       "      <td>LONGITUDE    0.037447\n",
       "LATITUDE     0.000045\n",
       "dt...</td>\n",
       "      <td>0.965111</td>\n",
       "      <td>0.994470</td>\n",
       "      <td>16.374268</td>\n",
       "      <td>6.822909</td>\n",
       "    </tr>\n",
       "  </tbody>\n",
       "</table>\n",
       "</div>"
      ],
      "text/plain": [
       "              Model_desc                                        Model_param  \\\n",
       "0  RandomForestRegressor  (DecisionTreeRegressor(criterion='mse', max_de...   \n",
       "0    ExtraTreesRegressor  (ExtraTreeRegressor(criterion='mse', max_depth...   \n",
       "0    KNeighborsRegressor  KNeighborsRegressor(algorithm='auto', leaf_siz...   \n",
       "\n",
       "   cross_val_score  mae_test  mae_train  \\\n",
       "0         0.960057  8.503570   1.974696   \n",
       "0         0.963376  8.186552   0.575143   \n",
       "0         0.949547  8.822279   2.496924   \n",
       "\n",
       "                                           mape_test  \\\n",
       "0  LONGITUDE    0.120827\n",
       "LATITUDE     0.000163\n",
       "dt...   \n",
       "0  LONGITUDE    0.115704\n",
       "LATITUDE     0.000158\n",
       "dt...   \n",
       "0  LONGITUDE    0.123604\n",
       "LATITUDE     0.000172\n",
       "dt...   \n",
       "\n",
       "                                          mape_train   r2_test  r2_train  \\\n",
       "0  LONGITUDE    0.029163\n",
       "LATITUDE     0.000037\n",
       "dt...  0.980381  0.996000   \n",
       "0  LONGITUDE    0.009154\n",
       "LATITUDE     0.000010\n",
       "dt...  0.981184  0.997063   \n",
       "0  LONGITUDE    0.037447\n",
       "LATITUDE     0.000045\n",
       "dt...  0.965111  0.994470   \n",
       "\n",
       "    rms_test  rms_train  \n",
       "0  12.310381   5.813659  \n",
       "0  12.103590   5.079685  \n",
       "0  16.374268   6.822909  "
      ]
     },
     "execution_count": 23,
     "metadata": {},
     "output_type": "execute_result"
    }
   ],
   "source": [
    "evaluate_model(regressor, \"KNeighborsRegressor\",regressor,X_train_LL,y_train_LL, X_test_LL , y_test_LL)"
   ]
  },
  {
   "cell_type": "code",
   "execution_count": 24,
   "metadata": {},
   "outputs": [],
   "source": [
    "with open('KNeighborsRegressor.pckl', 'wb') as fid:\n",
    "    pickle.dump(regressor, fid)  "
   ]
  },
  {
   "cell_type": "markdown",
   "metadata": {},
   "source": [
    "# Classifier Models"
   ]
  },
  {
   "cell_type": "code",
   "execution_count": 25,
   "metadata": {},
   "outputs": [],
   "source": [
    "X_train_FB = trainingData.drop(['FLOOR', 'BUILDINGID','SPACEID','LONGITUDE','LATITUDE','RELATIVEPOSITION','USERID','PHONEID','TIMESTAMP'], axis=1)\n",
    "y_train_FB = trainingData[['FLOOR', 'BUILDINGID']]"
   ]
  },
  {
   "cell_type": "code",
   "execution_count": 26,
   "metadata": {},
   "outputs": [],
   "source": [
    "X_test_FB = testingData.drop(['FLOOR', 'BUILDINGID','SPACEID','LONGITUDE','LATITUDE','RELATIVEPOSITION','USERID','PHONEID','TIMESTAMP'], axis=1)\n",
    "y_test_FB = testingData[['FLOOR', 'BUILDINGID']]"
   ]
  },
  {
   "cell_type": "code",
   "execution_count": 27,
   "metadata": {},
   "outputs": [],
   "source": [
    "X_train_FB = X_train_FB.values\n",
    "y_train_FB = y_train_FB.values"
   ]
  },
  {
   "cell_type": "code",
   "execution_count": 28,
   "metadata": {},
   "outputs": [],
   "source": [
    "#Importing Libraries\n",
    "from sklearn.metrics import r2_score, mean_squared_error,mean_absolute_error\n",
    "from sklearn.cross_validation import cross_val_score\n",
    "\n",
    "\n",
    "rmse_dict = {}    \n",
    "def rmse(correct,estimated):\n",
    "    rmse_val = np.sqrt(mean_squared_error(correct,estimated)) \n",
    "    return rmse_val\n",
    "\n",
    "# Generating the Table Frame for metrics\n",
    "evluation_table = pd.DataFrame({  'Model_desc':[],\n",
    "                        'Model_param':[],\n",
    "                        'r2_train': [],\n",
    "                        'r2_test': [],\n",
    "                        'rms_train':[], \n",
    "                        'rms_test': [],\n",
    "                        'mae_train': [],\n",
    "                        'mae_test': [],\n",
    "                        'mape_train':[],\n",
    "                        'mape_test':[],\n",
    "                        'cross_val_score' : []})\n",
    "\n",
    "\n",
    "# Evaluating the model\n",
    "def evaluate_model(model, model_desc,model_param, X_train, y_train, X_test, y_test):\n",
    "    global evluation_table\n",
    "    \n",
    "    y_train_pred = model.predict(X_train)\n",
    "    y_test_pred = model.predict(X_test)\n",
    "        \n",
    "    \n",
    "    try:\n",
    "        r2_train = r2_score(y_train, y_train_pred)\n",
    "        r2_test = r2_score(y_test, y_test_pred)\n",
    "    except:\n",
    "        r2_train = \"not calculated\"\n",
    "        r2_test = \"not calculated\"\n",
    "    try:\n",
    "        rms_train = rmse(y_train, y_train_pred)\n",
    "        rms_test = rmse(y_test, y_test_pred)\n",
    "    except:\n",
    "        rms_train = \"not calculated\"\n",
    "        rms_test = \"not calculated\"\n",
    "    try:\n",
    "        mae_train = mean_absolute_error(y_train, y_train_pred)\n",
    "        mae_test = mean_absolute_error(y_test, y_test_pred)\n",
    "    except:\n",
    "        mae_train = \"not calculated\"\n",
    "        mae_test = \"not calculated\"\n",
    "    try:\n",
    "        mape_train = np.mean(np.abs((y_train - y_train_pred) / y_train)) * 100\n",
    "        mape_test = np.mean(np.abs((y_test - y_test_pred) / y_test)) * 100\n",
    "    except:\n",
    "        mape_train = \"not calculated\"\n",
    "        mape_test = \"not calculated\"    \n",
    "    try:\n",
    "        cv_score = cross_val_score(model, X_train, y_train, cv=10)\n",
    "        cv_score = cv_score.mean()\n",
    "    except:\n",
    "        cv_score = \"Not calulated\"\n",
    "        \n",
    "    model_param = pd.DataFrame({'Model_desc':[model_desc],\n",
    "                            'Model_param':[model_param],\n",
    "                            'r2_train': [r2_train],\n",
    "                            'r2_test': [r2_test],\n",
    "                            'rms_train':[rms_train], \n",
    "                            'rms_test': [rms_test],\n",
    "                            'mae_train': [mae_train],\n",
    "                            'mae_test': [mae_test],\n",
    "                            'mape_train':[mape_train],\n",
    "                            'mape_test':[mape_test],\n",
    "                            'cross_val_score' : [cv_score]})\n",
    "\n",
    "    evluation_table = evluation_table.append([model_param])\n",
    " \n",
    "    return evluation_table"
   ]
  },
  {
   "cell_type": "code",
   "execution_count": 29,
   "metadata": {},
   "outputs": [],
   "source": [
    "from sklearn.ensemble import RandomForestClassifier"
   ]
  },
  {
   "cell_type": "code",
   "execution_count": 30,
   "metadata": {},
   "outputs": [
    {
     "data": {
      "text/plain": [
       "RandomForestClassifier(bootstrap=True, class_weight=None, criterion='gini',\n",
       "            max_depth=None, max_features=10, max_leaf_nodes=None,\n",
       "            min_impurity_decrease=0.0, min_impurity_split=None,\n",
       "            min_samples_leaf=1, min_samples_split=2,\n",
       "            min_weight_fraction_leaf=0.0, n_estimators=10, n_jobs=-1,\n",
       "            oob_score=False, random_state=None, verbose=0,\n",
       "            warm_start=False)"
      ]
     },
     "execution_count": 30,
     "metadata": {},
     "output_type": "execute_result"
    }
   ],
   "source": [
    "classifier = RandomForestClassifier(max_features=10 , n_jobs=-1 ) \n",
    "classifier.fit(X_train_FB, y_train_FB)"
   ]
  },
  {
   "cell_type": "code",
   "execution_count": 31,
   "metadata": {},
   "outputs": [
    {
     "name": "stderr",
     "output_type": "stream",
     "text": [
      "C:\\Users\\sreer\\Anaconda3\\envs\\learn_python\\lib\\site-packages\\ipykernel_launcher.py:52: RuntimeWarning: divide by zero encountered in true_divide\n",
      "C:\\Users\\sreer\\Anaconda3\\envs\\learn_python\\lib\\site-packages\\ipykernel_launcher.py:52: RuntimeWarning: invalid value encountered in true_divide\n"
     ]
    },
    {
     "data": {
      "text/html": [
       "<div>\n",
       "<style scoped>\n",
       "    .dataframe tbody tr th:only-of-type {\n",
       "        vertical-align: middle;\n",
       "    }\n",
       "\n",
       "    .dataframe tbody tr th {\n",
       "        vertical-align: top;\n",
       "    }\n",
       "\n",
       "    .dataframe thead th {\n",
       "        text-align: right;\n",
       "    }\n",
       "</style>\n",
       "<table border=\"1\" class=\"dataframe\">\n",
       "  <thead>\n",
       "    <tr style=\"text-align: right;\">\n",
       "      <th></th>\n",
       "      <th>Model_desc</th>\n",
       "      <th>Model_param</th>\n",
       "      <th>cross_val_score</th>\n",
       "      <th>mae_test</th>\n",
       "      <th>mae_train</th>\n",
       "      <th>mape_test</th>\n",
       "      <th>mape_train</th>\n",
       "      <th>r2_test</th>\n",
       "      <th>r2_train</th>\n",
       "      <th>rms_test</th>\n",
       "      <th>rms_train</th>\n",
       "    </tr>\n",
       "  </thead>\n",
       "  <tbody>\n",
       "    <tr>\n",
       "      <th>0</th>\n",
       "      <td>RandomForestClassifier</td>\n",
       "      <td>(DecisionTreeClassifier(class_weight=None, cri...</td>\n",
       "      <td>Not calulated</td>\n",
       "      <td>0.107561</td>\n",
       "      <td>0.003862</td>\n",
       "      <td>FLOOR              inf\n",
       "BUILDINGID    0.000000\n",
       "...</td>\n",
       "      <td>NaN</td>\n",
       "      <td>0.862216</td>\n",
       "      <td>0.992835</td>\n",
       "      <td>0.371704</td>\n",
       "      <td>0.097622</td>\n",
       "    </tr>\n",
       "  </tbody>\n",
       "</table>\n",
       "</div>"
      ],
      "text/plain": [
       "               Model_desc                                        Model_param  \\\n",
       "0  RandomForestClassifier  (DecisionTreeClassifier(class_weight=None, cri...   \n",
       "\n",
       "  cross_val_score  mae_test  mae_train  \\\n",
       "0   Not calulated  0.107561   0.003862   \n",
       "\n",
       "                                           mape_test  mape_train   r2_test  \\\n",
       "0  FLOOR              inf\n",
       "BUILDINGID    0.000000\n",
       "...         NaN  0.862216   \n",
       "\n",
       "   r2_train  rms_test  rms_train  \n",
       "0  0.992835  0.371704   0.097622  "
      ]
     },
     "execution_count": 31,
     "metadata": {},
     "output_type": "execute_result"
    }
   ],
   "source": [
    "evaluate_model(classifier, \"RandomForestClassifier\",classifier,X_train_FB,y_train_FB, X_test_FB , y_test_FB)"
   ]
  },
  {
   "cell_type": "code",
   "execution_count": 32,
   "metadata": {},
   "outputs": [],
   "source": [
    "with open('RandomForestClassifier.pckl', 'wb') as fid:\n",
    "    pickle.dump(classifier, fid)  "
   ]
  },
  {
   "cell_type": "code",
   "execution_count": 33,
   "metadata": {},
   "outputs": [],
   "source": [
    "from sklearn.ensemble import ExtraTreesClassifier"
   ]
  },
  {
   "cell_type": "code",
   "execution_count": 34,
   "metadata": {},
   "outputs": [
    {
     "data": {
      "text/plain": [
       "ExtraTreesClassifier(bootstrap=False, class_weight=None, criterion='gini',\n",
       "           max_depth=None, max_features=10, max_leaf_nodes=None,\n",
       "           min_impurity_decrease=0.0, min_impurity_split=None,\n",
       "           min_samples_leaf=1, min_samples_split=2,\n",
       "           min_weight_fraction_leaf=0.0, n_estimators=10, n_jobs=-1,\n",
       "           oob_score=False, random_state=None, verbose=0, warm_start=False)"
      ]
     },
     "execution_count": 34,
     "metadata": {},
     "output_type": "execute_result"
    }
   ],
   "source": [
    "classifier = ExtraTreesClassifier(max_features=10 , n_jobs=-1 ) \n",
    "classifier.fit(X_train_FB, y_train_FB)"
   ]
  },
  {
   "cell_type": "code",
   "execution_count": 35,
   "metadata": {},
   "outputs": [
    {
     "name": "stderr",
     "output_type": "stream",
     "text": [
      "C:\\Users\\sreer\\Anaconda3\\envs\\learn_python\\lib\\site-packages\\ipykernel_launcher.py:52: RuntimeWarning: divide by zero encountered in true_divide\n",
      "C:\\Users\\sreer\\Anaconda3\\envs\\learn_python\\lib\\site-packages\\ipykernel_launcher.py:52: RuntimeWarning: invalid value encountered in true_divide\n"
     ]
    },
    {
     "data": {
      "text/html": [
       "<div>\n",
       "<style scoped>\n",
       "    .dataframe tbody tr th:only-of-type {\n",
       "        vertical-align: middle;\n",
       "    }\n",
       "\n",
       "    .dataframe tbody tr th {\n",
       "        vertical-align: top;\n",
       "    }\n",
       "\n",
       "    .dataframe thead th {\n",
       "        text-align: right;\n",
       "    }\n",
       "</style>\n",
       "<table border=\"1\" class=\"dataframe\">\n",
       "  <thead>\n",
       "    <tr style=\"text-align: right;\">\n",
       "      <th></th>\n",
       "      <th>Model_desc</th>\n",
       "      <th>Model_param</th>\n",
       "      <th>cross_val_score</th>\n",
       "      <th>mae_test</th>\n",
       "      <th>mae_train</th>\n",
       "      <th>mape_test</th>\n",
       "      <th>mape_train</th>\n",
       "      <th>r2_test</th>\n",
       "      <th>r2_train</th>\n",
       "      <th>rms_test</th>\n",
       "      <th>rms_train</th>\n",
       "    </tr>\n",
       "  </thead>\n",
       "  <tbody>\n",
       "    <tr>\n",
       "      <th>0</th>\n",
       "      <td>RandomForestClassifier</td>\n",
       "      <td>(DecisionTreeClassifier(class_weight=None, cri...</td>\n",
       "      <td>Not calulated</td>\n",
       "      <td>0.107561</td>\n",
       "      <td>0.003862</td>\n",
       "      <td>FLOOR              inf\n",
       "BUILDINGID    0.000000\n",
       "...</td>\n",
       "      <td>NaN</td>\n",
       "      <td>0.862216</td>\n",
       "      <td>0.992835</td>\n",
       "      <td>0.371704</td>\n",
       "      <td>0.097622</td>\n",
       "    </tr>\n",
       "    <tr>\n",
       "      <th>0</th>\n",
       "      <td>ExtraTreesClassifier</td>\n",
       "      <td>(ExtraTreeClassifier(class_weight=None, criter...</td>\n",
       "      <td>Not calulated</td>\n",
       "      <td>0.102160</td>\n",
       "      <td>0.003837</td>\n",
       "      <td>FLOOR              inf\n",
       "BUILDINGID    0.173913\n",
       "...</td>\n",
       "      <td>NaN</td>\n",
       "      <td>0.869169</td>\n",
       "      <td>0.992852</td>\n",
       "      <td>0.361888</td>\n",
       "      <td>0.097493</td>\n",
       "    </tr>\n",
       "  </tbody>\n",
       "</table>\n",
       "</div>"
      ],
      "text/plain": [
       "               Model_desc                                        Model_param  \\\n",
       "0  RandomForestClassifier  (DecisionTreeClassifier(class_weight=None, cri...   \n",
       "0    ExtraTreesClassifier  (ExtraTreeClassifier(class_weight=None, criter...   \n",
       "\n",
       "  cross_val_score  mae_test  mae_train  \\\n",
       "0   Not calulated  0.107561   0.003862   \n",
       "0   Not calulated  0.102160   0.003837   \n",
       "\n",
       "                                           mape_test  mape_train   r2_test  \\\n",
       "0  FLOOR              inf\n",
       "BUILDINGID    0.000000\n",
       "...         NaN  0.862216   \n",
       "0  FLOOR              inf\n",
       "BUILDINGID    0.173913\n",
       "...         NaN  0.869169   \n",
       "\n",
       "   r2_train  rms_test  rms_train  \n",
       "0  0.992835  0.371704   0.097622  \n",
       "0  0.992852  0.361888   0.097493  "
      ]
     },
     "execution_count": 35,
     "metadata": {},
     "output_type": "execute_result"
    }
   ],
   "source": [
    "evaluate_model(classifier, \"ExtraTreesClassifier\",classifier,X_train_FB,y_train_FB, X_test_FB , y_test_FB)"
   ]
  },
  {
   "cell_type": "code",
   "execution_count": 36,
   "metadata": {},
   "outputs": [],
   "source": [
    "with open('ExtraTreesClassifier.pckl', 'wb') as fid:\n",
    "    pickle.dump(classifier, fid)  "
   ]
  },
  {
   "cell_type": "code",
   "execution_count": 37,
   "metadata": {},
   "outputs": [
    {
     "data": {
      "text/plain": [
       "KNeighborsClassifier(algorithm='auto', leaf_size=30, metric='minkowski',\n",
       "           metric_params=None, n_jobs=-1, n_neighbors=5, p=2,\n",
       "           weights='uniform')"
      ]
     },
     "execution_count": 37,
     "metadata": {},
     "output_type": "execute_result"
    }
   ],
   "source": [
    "classifier = neighbors.KNeighborsClassifier(n_jobs=-1)\n",
    "classifier.fit(X_train_FB, y_train_FB)"
   ]
  },
  {
   "cell_type": "code",
   "execution_count": 38,
   "metadata": {},
   "outputs": [
    {
     "name": "stderr",
     "output_type": "stream",
     "text": [
      "C:\\Users\\sreer\\Anaconda3\\envs\\learn_python\\lib\\site-packages\\ipykernel_launcher.py:52: RuntimeWarning: divide by zero encountered in true_divide\n",
      "C:\\Users\\sreer\\Anaconda3\\envs\\learn_python\\lib\\site-packages\\ipykernel_launcher.py:52: RuntimeWarning: invalid value encountered in true_divide\n"
     ]
    },
    {
     "data": {
      "text/html": [
       "<div>\n",
       "<style scoped>\n",
       "    .dataframe tbody tr th:only-of-type {\n",
       "        vertical-align: middle;\n",
       "    }\n",
       "\n",
       "    .dataframe tbody tr th {\n",
       "        vertical-align: top;\n",
       "    }\n",
       "\n",
       "    .dataframe thead th {\n",
       "        text-align: right;\n",
       "    }\n",
       "</style>\n",
       "<table border=\"1\" class=\"dataframe\">\n",
       "  <thead>\n",
       "    <tr style=\"text-align: right;\">\n",
       "      <th></th>\n",
       "      <th>Model_desc</th>\n",
       "      <th>Model_param</th>\n",
       "      <th>cross_val_score</th>\n",
       "      <th>mae_test</th>\n",
       "      <th>mae_train</th>\n",
       "      <th>mape_test</th>\n",
       "      <th>mape_train</th>\n",
       "      <th>r2_test</th>\n",
       "      <th>r2_train</th>\n",
       "      <th>rms_test</th>\n",
       "      <th>rms_train</th>\n",
       "    </tr>\n",
       "  </thead>\n",
       "  <tbody>\n",
       "    <tr>\n",
       "      <th>0</th>\n",
       "      <td>RandomForestClassifier</td>\n",
       "      <td>(DecisionTreeClassifier(class_weight=None, cri...</td>\n",
       "      <td>Not calulated</td>\n",
       "      <td>0.107561</td>\n",
       "      <td>0.003862</td>\n",
       "      <td>FLOOR              inf\n",
       "BUILDINGID    0.000000\n",
       "...</td>\n",
       "      <td>NaN</td>\n",
       "      <td>0.862216</td>\n",
       "      <td>0.992835</td>\n",
       "      <td>0.371704</td>\n",
       "      <td>0.097622</td>\n",
       "    </tr>\n",
       "    <tr>\n",
       "      <th>0</th>\n",
       "      <td>ExtraTreesClassifier</td>\n",
       "      <td>(ExtraTreeClassifier(class_weight=None, criter...</td>\n",
       "      <td>Not calulated</td>\n",
       "      <td>0.102160</td>\n",
       "      <td>0.003837</td>\n",
       "      <td>FLOOR              inf\n",
       "BUILDINGID    0.173913\n",
       "...</td>\n",
       "      <td>NaN</td>\n",
       "      <td>0.869169</td>\n",
       "      <td>0.992852</td>\n",
       "      <td>0.361888</td>\n",
       "      <td>0.097493</td>\n",
       "    </tr>\n",
       "    <tr>\n",
       "      <th>0</th>\n",
       "      <td>KNeighborsClassifier</td>\n",
       "      <td>KNeighborsClassifier(algorithm='auto', leaf_si...</td>\n",
       "      <td>Not calulated</td>\n",
       "      <td>0.164266</td>\n",
       "      <td>0.013141</td>\n",
       "      <td>FLOOR         inf\n",
       "BUILDINGID    inf\n",
       "dtype: flo...</td>\n",
       "      <td>NaN</td>\n",
       "      <td>0.752670</td>\n",
       "      <td>0.985347</td>\n",
       "      <td>0.495252</td>\n",
       "      <td>0.143579</td>\n",
       "    </tr>\n",
       "  </tbody>\n",
       "</table>\n",
       "</div>"
      ],
      "text/plain": [
       "               Model_desc                                        Model_param  \\\n",
       "0  RandomForestClassifier  (DecisionTreeClassifier(class_weight=None, cri...   \n",
       "0    ExtraTreesClassifier  (ExtraTreeClassifier(class_weight=None, criter...   \n",
       "0    KNeighborsClassifier  KNeighborsClassifier(algorithm='auto', leaf_si...   \n",
       "\n",
       "  cross_val_score  mae_test  mae_train  \\\n",
       "0   Not calulated  0.107561   0.003862   \n",
       "0   Not calulated  0.102160   0.003837   \n",
       "0   Not calulated  0.164266   0.013141   \n",
       "\n",
       "                                           mape_test  mape_train   r2_test  \\\n",
       "0  FLOOR              inf\n",
       "BUILDINGID    0.000000\n",
       "...         NaN  0.862216   \n",
       "0  FLOOR              inf\n",
       "BUILDINGID    0.173913\n",
       "...         NaN  0.869169   \n",
       "0  FLOOR         inf\n",
       "BUILDINGID    inf\n",
       "dtype: flo...         NaN  0.752670   \n",
       "\n",
       "   r2_train  rms_test  rms_train  \n",
       "0  0.992835  0.371704   0.097622  \n",
       "0  0.992852  0.361888   0.097493  \n",
       "0  0.985347  0.495252   0.143579  "
      ]
     },
     "execution_count": 38,
     "metadata": {},
     "output_type": "execute_result"
    }
   ],
   "source": [
    "evaluate_model(classifier, \"KNeighborsClassifier\",classifier,X_train_FB,y_train_FB, X_test_FB , y_test_FB)"
   ]
  },
  {
   "cell_type": "code",
   "execution_count": 39,
   "metadata": {},
   "outputs": [],
   "source": [
    "with open('KNeighborsClassifier.pckl', 'wb') as fid:\n",
    "    pickle.dump(classifier, fid)  "
   ]
  }
 ],
 "metadata": {
  "kernelspec": {
   "display_name": "Python 3",
   "language": "python",
   "name": "python3"
  },
  "language_info": {
   "codemirror_mode": {
    "name": "ipython",
    "version": 3
   },
   "file_extension": ".py",
   "mimetype": "text/x-python",
   "name": "python",
   "nbconvert_exporter": "python",
   "pygments_lexer": "ipython3",
   "version": "3.6.4"
  }
 },
 "nbformat": 4,
 "nbformat_minor": 2
}
